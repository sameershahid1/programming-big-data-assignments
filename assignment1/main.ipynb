{
 "cells": [
  {
   "cell_type": "code",
   "execution_count": 25,
   "metadata": {},
   "outputs": [
    {
     "name": "stdout",
     "output_type": "stream",
     "text": [
      "The is back\n"
     ]
    }
   ],
   "source": [
    "#Task1\n",
    "def message(test):\n",
    "    print(test)\n",
    "\n",
    "\n",
    "message(\"The is back\")"
   ]
  },
  {
   "cell_type": "code",
   "execution_count": 26,
   "metadata": {},
   "outputs": [
    {
     "name": "stdout",
     "output_type": "stream",
     "text": [
      "Hello, sameer\n",
      "Hello, zohaib\n",
      "The king is back\n",
      "Hello, Bilawal\n",
      "Buy zohaib\n"
     ]
    }
   ],
   "source": [
    "#Task2\n",
    "def  messagesPrint(*textList):\n",
    "    for message in textList:\n",
    "        print(message)\n",
    "\n",
    "\n",
    "messagesPrint(\"Hello, sameer\",\"Hello, zohaib\",\"The king is back\")\n",
    "messagesPrint(\"Hello, Bilawal\",\"Buy zohaib\")\n"
   ]
  },
  {
   "cell_type": "code",
   "execution_count": 27,
   "metadata": {},
   "outputs": [
    {
     "name": "stdout",
     "output_type": "stream",
     "text": [
      "(80, 5.0)\n"
     ]
    }
   ],
   "source": [
    "#Task3\n",
    "def calculation(a, b):\n",
    "    return a*2,b/2\n",
    "\n",
    "res = calculation(40, 10)\n",
    "print(res)\n"
   ]
  },
  {
   "cell_type": "code",
   "execution_count": 28,
   "metadata": {},
   "outputs": [
    {
     "name": "stdout",
     "output_type": "stream",
     "text": [
      "Name:  Sameer  Salary:  100000\n",
      "Name:  Zohaib  Salary:  9000\n"
     ]
    }
   ],
   "source": [
    "#Task4\n",
    "\n",
    "def show_employee(name , salary=9000):\n",
    "    print(\"Name: \",name,\" Salary: \",salary)\n",
    "\n",
    "show_employee(\"Sameer\", 100000)\n",
    "show_employee(\"Zohaib\")\n",
    "\n"
   ]
  },
  {
   "cell_type": "code",
   "execution_count": 29,
   "metadata": {},
   "outputs": [
    {
     "data": {
      "text/plain": [
       "12"
      ]
     },
     "execution_count": 29,
     "metadata": {},
     "output_type": "execute_result"
    }
   ],
   "source": [
    "#Task5\n",
    "def outerFunction(a,b):\n",
    "    def innerFunction():\n",
    "        return a+b\n",
    "    return innerFunction()+5\n",
    "outerFunction(2,5)"
   ]
  },
  {
   "cell_type": "code",
   "execution_count": 30,
   "metadata": {},
   "outputs": [
    {
     "data": {
      "text/plain": [
       "55"
      ]
     },
     "execution_count": 30,
     "metadata": {},
     "output_type": "execute_result"
    }
   ],
   "source": [
    "#Task6\n",
    "def sumOfNumber(n):\n",
    "    if n==0:\n",
    "        return 0\n",
    "    return n+sumOfNumber(n-1)\n",
    "\n",
    "sumOfNumber(10)"
   ]
  },
  {
   "cell_type": "code",
   "execution_count": 31,
   "metadata": {},
   "outputs": [
    {
     "name": "stdout",
     "output_type": "stream",
     "text": [
      "Sameer 22\n"
     ]
    }
   ],
   "source": [
    "#Task7\n",
    "def display_student(name,age):\n",
    "    print(name,age)\n",
    "\n",
    "show_student=display_student\n",
    "\n",
    "show_student(\"Sameer\",22)"
   ]
  },
  {
   "cell_type": "code",
   "execution_count": 32,
   "metadata": {},
   "outputs": [
    {
     "data": {
      "text/plain": [
       "[4, 6, 8, 10, 12, 14, 16, 18, 20, 22, 24, 26, 28]"
      ]
     },
     "execution_count": 32,
     "metadata": {},
     "output_type": "execute_result"
    }
   ],
   "source": [
    "#Task8\n",
    "def generateEven():\n",
    "    start=4\n",
    "    end=30\n",
    "    evenList=[]\n",
    "    for i in range(start,end,2):\n",
    "        evenList.append(i)\n",
    "    return evenList\n",
    "generateEven()\n",
    "\n"
   ]
  },
  {
   "cell_type": "code",
   "execution_count": 33,
   "metadata": {},
   "outputs": [
    {
     "data": {
      "text/plain": [
       "24"
      ]
     },
     "execution_count": 33,
     "metadata": {},
     "output_type": "execute_result"
    }
   ],
   "source": [
    "#Task9\n",
    "def largestItem(numList):\n",
    "    if len(numList)==0:\n",
    "        return 0\n",
    "    max=numList[0]\n",
    "    for x in numList:\n",
    "        if max < x:\n",
    "            max = x\n",
    "    return  max\n",
    "\n",
    "numList= [4, 6, 8, 24, 12, 2]\n",
    "largestItem(numList)"
   ]
  }
 ],
 "metadata": {
  "kernelspec": {
   "display_name": "Python 3",
   "language": "python",
   "name": "python3"
  },
  "language_info": {
   "codemirror_mode": {
    "name": "ipython",
    "version": 3
   },
   "file_extension": ".py",
   "mimetype": "text/x-python",
   "name": "python",
   "nbconvert_exporter": "python",
   "pygments_lexer": "ipython3",
   "version": "3.12.2"
  }
 },
 "nbformat": 4,
 "nbformat_minor": 2
}
